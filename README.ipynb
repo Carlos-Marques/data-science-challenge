{
 "cells": [
  {
   "cell_type": "markdown",
   "metadata": {},
   "source": [
    "# Data Science Challenge"
   ]
  },
  {
   "cell_type": "markdown",
   "metadata": {},
   "source": [
    "## Context\n",
    "\n",
    "Unbabel's translation service is an hybrid model where AI and Humans play a well defined role. \n",
    "In this challenge we will focus on the human part of the pipeline and not on the Machine Translation (MT) one.\n",
    "\n",
    "Our scenario is the following:\n",
    "\n",
    "A client will send Unbabel customer support tickets for translation. After the MT step, Unbabel will send the content post editors to make sure translations have good quality. In this process a translation job is broken into a number of tasks. These tasks are then randomly assigned to a set of post editors. After the editors work on the task, the content is regrouped and sent back to the client. In this process there are two very important variables: quality and price.\n",
    "\n",
    "Price is a positive integer number that represents how much we pay an editor for a task.\n",
    "\n",
    "A price, $P(t)$, of a task $t$ is defined as:\n",
    "\n",
    "\\begin{align}\n",
    "P(t) =\n",
    "  \\begin{cases}\n",
    "    \\alpha W(t)  S_e       & \\quad \\text{if } LP_e \\in \\{LP_t\\}  \\\\\n",
    "    W(t) \\log(\\Gamma + S_e)        & \\quad \\text{if } LP_e \\notin \\{LP_t\\}  \\\\\n",
    "  \\end{cases}\n",
    "\\end{align}\n",
    "\n",
    "\n",
    "Where:\n",
    "\n",
    "+ $\\alpha$, $\\beta$ and $\\Gamma$ are constants\n",
    "+ $S_e$ is an integer number representing the skill of the editor. $S \\in [1,5]$. Editors with a higher skill are more proficient than others.\n",
    "+ $W(t)$ is the number of words of the task.\n",
    "+ LP is the language pair (e.g Portuguese would be `pt_en`)\n",
    "\n",
    "Quality is an integer number between 0 and 100 and it's a metric used to evaluate how good a translation is. \n",
    "\n",
    "For simplicity, the way we calculate the quality, $Q(t)$, of a task can be defined as:\n",
    "\n",
    "\\begin{align}\n",
    "Q(t) =\n",
    "  \\begin{cases}\n",
    "    select\\_element(Int_e)      & \\quad \\text{if } LP_e \\in \\{LP_t\\}  \\\\\n",
    "    0  & \\quad \\text{if } LP_e \\notin \\{LP_t\\}  \\\\\n",
    "  \\end{cases}\n",
    "\\end{align}\n",
    "\n",
    "Where:\n",
    "\n",
    "+ $Int_e$ is the quality interval. \n",
    "+ Quality interval - For simplicity we divide the space $Q$ into $S-1$ buckets. In this example $S=5$.\n",
    "\n",
    "The selection of the quality interval should take in consideration the skill of the post editor. It is expected that post editors with higher skill produce tasks with higher quality. Hence, the probability of a post editor $E$ be assigned to a quality interval $A$ is given by:\n",
    "\n",
    "\n",
    "\\begin{align}\n",
    "P(A | E) =\n",
    "  \\begin{cases}\n",
    "    \\frac{P(A)}{A}      & \\quad \\text{if } S(E) \\neq B  \\\\\n",
    "    P(A) . \\beta A         & \\quad \\text{if } S(E) = B  \\\\  \\\\\n",
    "  \\end{cases}\n",
    "\\end{align}"
   ]
  },
  {
   "cell_type": "markdown",
   "metadata": {},
   "source": [
    "## Problem\n",
    "\n",
    "There has been some complains lately from both customers and post editors. \n",
    "\n",
    "Clients complaint that quality is not stable and that they're having problems in trusting the service. This is critical and must be solved.\n",
    "\n",
    "A large group of post editors claim that sometimes they're starving! In other words, they're not getting any tasks. This might cause them to leave and that's is something that cannot happen.\n",
    "\n",
    "Your mission is, based on the models defined below and a dataset  (which we will provide shortly) come up with a solution for this problem."
   ]
  },
  {
   "cell_type": "markdown",
   "metadata": {},
   "source": [
    "### Notes\n",
    "\n",
    "One of the most important things that we'll evaluate is the consistency of your solution. It needs to tell a story so make sure every step and decision you took.\n",
    "\n",
    "How you tell that story is entirely up to you but make sure you include some visualizations (an image is worth a thousand words).\n",
    "\n",
    "If you have questions please open an issue.\n",
    "\n",
    "Good luck and have fun!"
   ]
  },
  {
   "cell_type": "markdown",
   "metadata": {},
   "source": [
    "## Data Models"
   ]
  },
  {
   "cell_type": "code",
   "execution_count": 7,
   "metadata": {},
   "outputs": [],
   "source": [
    "from dataclasses import dataclass\n",
    "\n",
    "domains = ['travel', 'fintech', 'ecommerce', 'sports', 'gamming']\n",
    "category = ['Small', 'Medium', 'Enterprise']\n",
    "\n",
    "@dataclass\n",
    "class Ticket(object):\n",
    "    id: str\n",
    "    client_id: str\n",
    "    tone: str\n",
    "    topic: str\n",
    "    number_words: int\n",
    "    source_language: str\n",
    "    target_language: str\n",
    "    quality_score: float\n",
    "    price: float # sum of all tasks costs\n",
    "\n",
    "    def to_hash(self):\n",
    "        return self.__dict__\n",
    "    \n",
    "@dataclass\n",
    "class Client(object):\n",
    "    id: str\n",
    "    domain: str\n",
    "    category: str\n",
    "\n",
    "@dataclass\n",
    "class Task(object):\n",
    "    id: str\n",
    "    sequence_number: int\n",
    "    number_words: int\n",
    "    ticket_id: str\n",
    "    cost: float\n",
    "\n",
    "@dataclass\n",
    "class Editor(object):\n",
    "    id: str\n",
    "    travel_skill: int\n",
    "    fintech_skill: int\n",
    "    ecommerce_skill: int\n",
    "    sport_skill: int\n",
    "    gamming_skill: int"
   ]
  },
  {
   "cell_type": "markdown",
   "metadata": {},
   "source": [
    "## Dataset\n",
    "\n",
    "- Coming Soon :)"
   ]
  }
 ],
 "metadata": {
  "kernelspec": {
   "display_name": "Python 3",
   "language": "python",
   "name": "python3"
  },
  "language_info": {
   "codemirror_mode": {
    "name": "ipython",
    "version": 3
   },
   "file_extension": ".py",
   "mimetype": "text/x-python",
   "name": "python",
   "nbconvert_exporter": "python",
   "pygments_lexer": "ipython3",
   "version": "3.7.2"
  }
 },
 "nbformat": 4,
 "nbformat_minor": 2
}
